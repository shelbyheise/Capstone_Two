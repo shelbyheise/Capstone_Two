{
 "cells": [
  {
   "cell_type": "code",
   "execution_count": 20,
   "metadata": {},
   "outputs": [],
   "source": [
    "import pandas as pd\n",
    "import numpy as np\n",
    "import time\n",
    "from twython import Twython, TwythonError, TwythonRateLimitError\n",
    "import json \n",
    "import sklearn\n",
    "from sklearn.feature_extraction import text\n",
    "import pandas_profiling\n",
    "from pandas_profiling.utils.cache import cache_file "
   ]
  },
  {
   "cell_type": "code",
   "execution_count": 21,
   "metadata": {},
   "outputs": [],
   "source": [
    "\n",
    "APP_KEY = 'SECRET CODE'\n",
    "APP_SECRET = 'SECRET CODE'\n",
    "\n",
    "twitter = Twython(APP_KEY, APP_SECRET, oauth_version=2)\n",
    "ACCESS_TOKEN = twitter.obtain_access_token()"
   ]
  },
  {
   "cell_type": "code",
   "execution_count": 22,
   "metadata": {},
   "outputs": [],
   "source": [
    "#Use Twython to connect to twitter\n",
    "twitter = Twython(APP_KEY, access_token=ACCESS_TOKEN)"
   ]
  },
  {
   "cell_type": "code",
   "execution_count": 103,
   "metadata": {},
   "outputs": [],
   "source": [
    "#Search twitter for set handles and hashtags\n",
    "query = '#gsmnp OR #GrandCanyon OR #rmnp OR #ZionNPS OR #Yosemite OR #NPS'"
   ]
  },
  {
   "cell_type": "code",
   "execution_count": 203,
   "metadata": {
    "collapsed": true
   },
   "outputs": [
    {
     "ename": "NameError",
     "evalue": "name 'referenced_tweets' is not defined",
     "output_type": "error",
     "traceback": [
      "\u001b[0;31m---------------------------------------------------------------------------\u001b[0m",
      "\u001b[0;31mNameError\u001b[0m                                 Traceback (most recent call last)",
      "\u001b[0;32m<ipython-input-203-cdaa72eefadf>\u001b[0m in \u001b[0;36m<module>\u001b[0;34m\u001b[0m\n\u001b[1;32m      3\u001b[0m \u001b[0;32mfor\u001b[0m \u001b[0mi\u001b[0m \u001b[0;32min\u001b[0m \u001b[0mrange\u001b[0m\u001b[0;34m(\u001b[0m\u001b[0;36m0\u001b[0m\u001b[0;34m,\u001b[0m \u001b[0mrequest_pages\u001b[0m\u001b[0;34m)\u001b[0m\u001b[0;34m:\u001b[0m\u001b[0;34m\u001b[0m\u001b[0;34m\u001b[0m\u001b[0m\n\u001b[1;32m      4\u001b[0m     \u001b[0;32mif\u001b[0m \u001b[0mi\u001b[0m \u001b[0;34m==\u001b[0m \u001b[0;36m0\u001b[0m\u001b[0;34m:\u001b[0m \u001b[0;31m#on intial request, search for query\u001b[0m\u001b[0;34m\u001b[0m\u001b[0;34m\u001b[0m\u001b[0m\n\u001b[0;32m----> 5\u001b[0;31m         \u001b[0mq_tweet\u001b[0m \u001b[0;34m=\u001b[0m \u001b[0mtwitter\u001b[0m\u001b[0;34m.\u001b[0m\u001b[0msearch\u001b[0m\u001b[0;34m(\u001b[0m\u001b[0mq\u001b[0m \u001b[0;34m=\u001b[0m \u001b[0mquery\u001b[0m\u001b[0;34m,\u001b[0m \u001b[0mcount\u001b[0m \u001b[0;34m=\u001b[0m \u001b[0;34m'100'\u001b[0m\u001b[0;34m,\u001b[0m \u001b[0mlang\u001b[0m \u001b[0;34m=\u001b[0m \u001b[0;34m'en'\u001b[0m\u001b[0;34m,\u001b[0m \u001b[0mtweet_fields\u001b[0m\u001b[0;34m=\u001b[0m \u001b[0mreferenced_tweets\u001b[0m\u001b[0;34m.\u001b[0m\u001b[0mtype\u001b[0m\u001b[0;34m)\u001b[0m\u001b[0;34m\u001b[0m\u001b[0;34m\u001b[0m\u001b[0m\n\u001b[0m\u001b[1;32m      6\u001b[0m     \u001b[0;32melse\u001b[0m\u001b[0;34m:\u001b[0m \u001b[0;31m#for additional request, search query and use the previous minimum id value as starting max value\u001b[0m\u001b[0;34m\u001b[0m\u001b[0;34m\u001b[0m\u001b[0m\n\u001b[1;32m      7\u001b[0m         q_tweet = twitter.search(q = query, count = '100', lang = 'en', tweet_fields= referenced_tweets.type,\n",
      "\u001b[0;31mNameError\u001b[0m: name 'referenced_tweets' is not defined"
     ]
    }
   ],
   "source": [
    "listed = pd.DataFrame()\n",
    "request_pages = 450\n",
    "for i in range(0, request_pages):\n",
    "    if i == 0: #on intial request, search for query\n",
    "        q_tweet = twitter.search(q = query, count = '100', lang = 'en')\n",
    "    else: #for additional request, search query and use the previous minimum id value as starting max value\n",
    "        q_tweet = twitter.search(q = query, count = '100', lang = 'en',\n",
    "                                max_id = curr_since)\n",
    "    t_df = pd.json_normalize(q_tweet['statuses']) #normalize data\n",
    "    if len(t_df.index) == 0: #if the length of the dataframe is equal to 0, break\n",
    "        break\n",
    "    curr_since = min(t_df['id']) #initial minimum id\n",
    "    curr_since = str(curr_since) #convert to string\n",
    "    listed = listed.append(t_df) \n",
    "    time.sleep(2)"
   ]
  },
  {
   "cell_type": "code",
   "execution_count": 191,
   "metadata": {},
   "outputs": [
    {
     "name": "stdout",
     "output_type": "stream",
     "text": [
      "                        created_at                   id               id_str  \\\n",
      "0   Sat Nov 28 23:10:03 +0000 2020  1332824101736603660  1332824101736603660   \n",
      "1   Sat Nov 28 23:10:01 +0000 2020  1332824094463680512  1332824094463680512   \n",
      "2   Sat Nov 28 23:08:13 +0000 2020  1332823643643138054  1332823643643138054   \n",
      "3   Sat Nov 28 22:52:06 +0000 2020  1332819584701894658  1332819584701894658   \n",
      "4   Sat Nov 28 22:51:22 +0000 2020  1332819400618110978  1332819400618110978   \n",
      "..                             ...                  ...                  ...   \n",
      "0   Thu Nov 19 19:54:12 +0000 2020  1329513322958516226  1329513322958516226   \n",
      "0   Thu Nov 19 19:54:12 +0000 2020  1329513322958516226  1329513322958516226   \n",
      "0   Thu Nov 19 19:54:12 +0000 2020  1329513322958516226  1329513322958516226   \n",
      "0   Thu Nov 19 19:54:12 +0000 2020  1329513322958516226  1329513322958516226   \n",
      "1   Thu Nov 19 18:35:06 +0000 2020  1329493417227857922  1329493417227857922   \n",
      "\n",
      "                                                 text  truncated  \\\n",
      "0   Bucket List Alert!\\nIn 3 days rafting trips to...       True   \n",
      "1   Peaceful #Valley #totebag\\nOn @society6! https...       True   \n",
      "2   Today, #GSMNP. #alumcavetrail #greatsmokymount...       True   \n",
      "3   RT @ImagesByJonEvan: Art for the Eyes! https:/...      False   \n",
      "4   Is it time for you to renew your #nursing lice...       True   \n",
      "..                                                ...        ...   \n",
      "0   Your NPS (net promoter score) is a fantastic t...       True   \n",
      "0   Your NPS (net promoter score) is a fantastic t...       True   \n",
      "0   Your NPS (net promoter score) is a fantastic t...       True   \n",
      "0   Your NPS (net promoter score) is a fantastic t...       True   \n",
      "1   We both loved 💚 💙 our vistit to the Grand Cany...       True   \n",
      "\n",
      "                                               source in_reply_to_status_id  \\\n",
      "0   <a href=\"https://www.hootsuite.com\" rel=\"nofol...                   NaN   \n",
      "1   <a href=\"https://buffer.com\" rel=\"nofollow\">Bu...                   NaN   \n",
      "2   <a href=\"http://instagram.com\" rel=\"nofollow\">...                   NaN   \n",
      "3   <a href=\"https://mobile.twitter.com\" rel=\"nofo...                   NaN   \n",
      "4   <a href=\"https://coschedule.com\" rel=\"nofollow...                   NaN   \n",
      "..                                                ...                   ...   \n",
      "0   <a href=\"https://mobile.twitter.com\" rel=\"nofo...                  None   \n",
      "0   <a href=\"https://mobile.twitter.com\" rel=\"nofo...                  None   \n",
      "0   <a href=\"https://mobile.twitter.com\" rel=\"nofo...                  None   \n",
      "0   <a href=\"https://mobile.twitter.com\" rel=\"nofo...                  None   \n",
      "1   <a href=\"http://socialbu.com\" rel=\"nofollow\">S...                  None   \n",
      "\n",
      "   in_reply_to_status_id_str in_reply_to_user_id in_reply_to_user_id_str  ...  \\\n",
      "0                       None                 NaN                    None  ...   \n",
      "1                       None                 NaN                    None  ...   \n",
      "2                       None                 NaN                    None  ...   \n",
      "3                       None                 NaN                    None  ...   \n",
      "4                       None                 NaN                    None  ...   \n",
      "..                       ...                 ...                     ...  ...   \n",
      "0                       None                None                    None  ...   \n",
      "0                       None                None                    None  ...   \n",
      "0                       None                None                    None  ...   \n",
      "0                       None                None                    None  ...   \n",
      "1                       None                None                    None  ...   \n",
      "\n",
      "   quoted_status.place.id quoted_status.place.url  \\\n",
      "0                     NaN                     NaN   \n",
      "1                     NaN                     NaN   \n",
      "2                     NaN                     NaN   \n",
      "3                     NaN                     NaN   \n",
      "4                     NaN                     NaN   \n",
      "..                    ...                     ...   \n",
      "0                     NaN                     NaN   \n",
      "0                     NaN                     NaN   \n",
      "0                     NaN                     NaN   \n",
      "0                     NaN                     NaN   \n",
      "1                     NaN                     NaN   \n",
      "\n",
      "   quoted_status.place.place_type quoted_status.place.name  \\\n",
      "0                             NaN                      NaN   \n",
      "1                             NaN                      NaN   \n",
      "2                             NaN                      NaN   \n",
      "3                             NaN                      NaN   \n",
      "4                             NaN                      NaN   \n",
      "..                            ...                      ...   \n",
      "0                             NaN                      NaN   \n",
      "0                             NaN                      NaN   \n",
      "0                             NaN                      NaN   \n",
      "0                             NaN                      NaN   \n",
      "1                             NaN                      NaN   \n",
      "\n",
      "   quoted_status.place.full_name  quoted_status.place.country_code  \\\n",
      "0                            NaN                               NaN   \n",
      "1                            NaN                               NaN   \n",
      "2                            NaN                               NaN   \n",
      "3                            NaN                               NaN   \n",
      "4                            NaN                               NaN   \n",
      "..                           ...                               ...   \n",
      "0                            NaN                               NaN   \n",
      "0                            NaN                               NaN   \n",
      "0                            NaN                               NaN   \n",
      "0                            NaN                               NaN   \n",
      "1                            NaN                               NaN   \n",
      "\n",
      "    quoted_status.place.country  quoted_status.place.contained_within  \\\n",
      "0                           NaN                                   NaN   \n",
      "1                           NaN                                   NaN   \n",
      "2                           NaN                                   NaN   \n",
      "3                           NaN                                   NaN   \n",
      "4                           NaN                                   NaN   \n",
      "..                          ...                                   ...   \n",
      "0                           NaN                                   NaN   \n",
      "0                           NaN                                   NaN   \n",
      "0                           NaN                                   NaN   \n",
      "0                           NaN                                   NaN   \n",
      "1                           NaN                                   NaN   \n",
      "\n",
      "    quoted_status.place.bounding_box.type  \\\n",
      "0                                     NaN   \n",
      "1                                     NaN   \n",
      "2                                     NaN   \n",
      "3                                     NaN   \n",
      "4                                     NaN   \n",
      "..                                    ...   \n",
      "0                                     NaN   \n",
      "0                                     NaN   \n",
      "0                                     NaN   \n",
      "0                                     NaN   \n",
      "1                                     NaN   \n",
      "\n",
      "    quoted_status.place.bounding_box.coordinates  \n",
      "0                                            NaN  \n",
      "1                                            NaN  \n",
      "2                                            NaN  \n",
      "3                                            NaN  \n",
      "4                                            NaN  \n",
      "..                                           ...  \n",
      "0                                            NaN  \n",
      "0                                            NaN  \n",
      "0                                            NaN  \n",
      "0                                            NaN  \n",
      "1                                            NaN  \n",
      "\n",
      "[2200 rows x 348 columns]\n"
     ]
    }
   ],
   "source": [
    "print(listed)"
   ]
  },
  {
   "cell_type": "code",
   "execution_count": 192,
   "metadata": {},
   "outputs": [],
   "source": [
    "#Save the data to .csv\n",
    "listed.to_csv('data_df.csv', index=False) #save test file so not continually pulling from Twitter"
   ]
  },
  {
   "cell_type": "code",
   "execution_count": 194,
   "metadata": {},
   "outputs": [
    {
     "name": "stdout",
     "output_type": "stream",
     "text": [
      "<class 'pandas.core.frame.DataFrame'>\n",
      "RangeIndex: 2200 entries, 0 to 2199\n",
      "Columns: 348 entries, created_at to quoted_status.place.bounding_box.coordinates\n",
      "dtypes: bool(15), float64(99), int64(11), object(223)\n",
      "memory usage: 5.6+ MB\n"
     ]
    }
   ],
   "source": [
    "#Open file\n",
    "df = pd.read_csv('data_df.csv', low_memory= False)\n",
    "df.describe()\n",
    "df.info()"
   ]
  },
  {
   "cell_type": "code",
   "execution_count": 195,
   "metadata": {},
   "outputs": [
    {
     "name": "stdout",
     "output_type": "stream",
     "text": [
      "                       created_at                   id               id_str  \\\n",
      "0  Sat Nov 28 23:10:03 +0000 2020  1332824101736603660  1332824101736603660   \n",
      "1  Sat Nov 28 23:10:01 +0000 2020  1332824094463680512  1332824094463680512   \n",
      "2  Sat Nov 28 23:08:13 +0000 2020  1332823643643138054  1332823643643138054   \n",
      "3  Sat Nov 28 22:52:06 +0000 2020  1332819584701894658  1332819584701894658   \n",
      "4  Sat Nov 28 22:51:22 +0000 2020  1332819400618110978  1332819400618110978   \n",
      "\n",
      "                                                text  truncated  \\\n",
      "0  Bucket List Alert!\\nIn 3 days rafting trips to...       True   \n",
      "1  Peaceful #Valley #totebag\\nOn @society6! https...       True   \n",
      "2  Today, #GSMNP. #alumcavetrail #greatsmokymount...       True   \n",
      "3  RT @ImagesByJonEvan: Art for the Eyes! https:/...      False   \n",
      "4  Is it time for you to renew your #nursing lice...       True   \n",
      "\n",
      "                                              source  in_reply_to_status_id  \\\n",
      "0  <a href=\"https://www.hootsuite.com\" rel=\"nofol...                    NaN   \n",
      "1  <a href=\"https://buffer.com\" rel=\"nofollow\">Bu...                    NaN   \n",
      "2  <a href=\"http://instagram.com\" rel=\"nofollow\">...                    NaN   \n",
      "3  <a href=\"https://mobile.twitter.com\" rel=\"nofo...                    NaN   \n",
      "4  <a href=\"https://coschedule.com\" rel=\"nofollow...                    NaN   \n",
      "\n",
      "   in_reply_to_status_id_str  in_reply_to_user_id  in_reply_to_user_id_str  \\\n",
      "0                        NaN                  NaN                      NaN   \n",
      "1                        NaN                  NaN                      NaN   \n",
      "2                        NaN                  NaN                      NaN   \n",
      "3                        NaN                  NaN                      NaN   \n",
      "4                        NaN                  NaN                      NaN   \n",
      "\n",
      "   ... quoted_status.place.id  quoted_status.place.url  \\\n",
      "0  ...                    NaN                      NaN   \n",
      "1  ...                    NaN                      NaN   \n",
      "2  ...                    NaN                      NaN   \n",
      "3  ...                    NaN                      NaN   \n",
      "4  ...                    NaN                      NaN   \n",
      "\n",
      "   quoted_status.place.place_type  quoted_status.place.name  \\\n",
      "0                             NaN                       NaN   \n",
      "1                             NaN                       NaN   \n",
      "2                             NaN                       NaN   \n",
      "3                             NaN                       NaN   \n",
      "4                             NaN                       NaN   \n",
      "\n",
      "   quoted_status.place.full_name  quoted_status.place.country_code  \\\n",
      "0                            NaN                               NaN   \n",
      "1                            NaN                               NaN   \n",
      "2                            NaN                               NaN   \n",
      "3                            NaN                               NaN   \n",
      "4                            NaN                               NaN   \n",
      "\n",
      "   quoted_status.place.country  quoted_status.place.contained_within  \\\n",
      "0                          NaN                                   NaN   \n",
      "1                          NaN                                   NaN   \n",
      "2                          NaN                                   NaN   \n",
      "3                          NaN                                   NaN   \n",
      "4                          NaN                                   NaN   \n",
      "\n",
      "   quoted_status.place.bounding_box.type  \\\n",
      "0                                    NaN   \n",
      "1                                    NaN   \n",
      "2                                    NaN   \n",
      "3                                    NaN   \n",
      "4                                    NaN   \n",
      "\n",
      "   quoted_status.place.bounding_box.coordinates  \n",
      "0                                           NaN  \n",
      "1                                           NaN  \n",
      "2                                           NaN  \n",
      "3                                           NaN  \n",
      "4                                           NaN  \n",
      "\n",
      "[5 rows x 348 columns]\n"
     ]
    }
   ],
   "source": [
    "print(df.head())"
   ]
  },
  {
   "cell_type": "code",
   "execution_count": 196,
   "metadata": {},
   "outputs": [
    {
     "name": "stdout",
     "output_type": "stream",
     "text": [
      "Index(['created_at', 'id', 'id_str', 'text', 'truncated', 'source',\n",
      "       'in_reply_to_status_id', 'in_reply_to_status_id_str',\n",
      "       'in_reply_to_user_id', 'in_reply_to_user_id_str',\n",
      "       ...\n",
      "       'quoted_status.place.id', 'quoted_status.place.url',\n",
      "       'quoted_status.place.place_type', 'quoted_status.place.name',\n",
      "       'quoted_status.place.full_name', 'quoted_status.place.country_code',\n",
      "       'quoted_status.place.country', 'quoted_status.place.contained_within',\n",
      "       'quoted_status.place.bounding_box.type',\n",
      "       'quoted_status.place.bounding_box.coordinates'],\n",
      "      dtype='object', length=348)\n"
     ]
    }
   ],
   "source": [
    "print(df.columns)"
   ]
  },
  {
   "cell_type": "code",
   "execution_count": 197,
   "metadata": {},
   "outputs": [
    {
     "name": "stdout",
     "output_type": "stream",
     "text": [
      "False\n"
     ]
    }
   ],
   "source": [
    "#Check to see if any null values in text column\n",
    "print(df['text'].isnull().values.any())"
   ]
  },
  {
   "cell_type": "code",
   "execution_count": 212,
   "metadata": {},
   "outputs": [
    {
     "name": "stdout",
     "output_type": "stream",
     "text": [
      "0       Bucket List Alert!\\nIn 3 days rafting trips to...\n",
      "1       Peaceful #Valley #totebag\\nOn @society6! https...\n",
      "2       Today, #GSMNP. #alumcavetrail #greatsmokymount...\n",
      "4       Is it time for you to renew your #nursing lice...\n",
      "6       Art for the Eyes! https://t.co/t05x0aBhJZ #yos...\n",
      "                              ...                        \n",
      "2195    Your NPS (net promoter score) is a fantastic t...\n",
      "2196    Your NPS (net promoter score) is a fantastic t...\n",
      "2197    Your NPS (net promoter score) is a fantastic t...\n",
      "2198    Your NPS (net promoter score) is a fantastic t...\n",
      "2199    We both loved 💚 💙 our vistit to the Grand Cany...\n",
      "Name: text, Length: 1087, dtype: object\n"
     ]
    }
   ],
   "source": [
    "#Remove retweets from text column\n",
    "df_nort = df[~df.text.str.contains('RT')]\n",
    "print(df_nort['text'])"
   ]
  },
  {
   "cell_type": "code",
   "execution_count": 215,
   "metadata": {},
   "outputs": [
    {
     "name": "stdout",
     "output_type": "stream",
     "text": [
      "0       Bucket List Alert!\\nIn 3 days rafting trips to...\n",
      "1       Peaceful #Valley #totebag\\nOn @society6! https...\n",
      "2       Today, #GSMNP. #alumcavetrail #greatsmokymount...\n",
      "4       Is it time for you to renew your #nursing lice...\n",
      "6       Art for the Eyes! https://t.co/t05x0aBhJZ #yos...\n",
      "                              ...                        \n",
      "2112    If you love #nature &amp; #animals and don't a...\n",
      "2113    Yes, You Can Visit the Grand Canyon in Winter ...\n",
      "2114    Hidden Forest offers a natural area among the ...\n",
      "2116    Your NPS (net promoter score) is a fantastic t...\n",
      "2199    We both loved 💚 💙 our vistit to the Grand Cany...\n",
      "Name: text, Length: 995, dtype: object\n"
     ]
    }
   ],
   "source": [
    "#Remove duplicates from text column\n",
    "df_nort = df_nort.drop_duplicates(subset='text')\n",
    "print(df_nort['text'])"
   ]
  },
  {
   "cell_type": "code",
   "execution_count": 216,
   "metadata": {},
   "outputs": [
    {
     "name": "stdout",
     "output_type": "stream",
     "text": [
      "0       Bucket List Alert!\\nIn 3 days rafting trips to...\n",
      "1       Peaceful #Valley #totebag\\nOn @society6! https...\n",
      "2       Today, #GSMNP. #alumcavetrail #greatsmokymount...\n",
      "4       Is it time for you to renew your #nursing lice...\n",
      "6       Art for the Eyes! https://t.co/t05x0aBhJZ #yos...\n",
      "                              ...                        \n",
      "2112    If you love #nature &amp; #animals and don't a...\n",
      "2113    Yes, You Can Visit the Grand Canyon in Winter ...\n",
      "2114    Hidden Forest offers a natural area among the ...\n",
      "2116    Your NPS (net promoter score) is a fantastic t...\n",
      "2199    We both loved 💚 💙 our vistit to the Grand Cany...\n",
      "Name: text, Length: 995, dtype: object\n"
     ]
    }
   ],
   "source": [
    "#Separate tweet from other available data\n",
    "tweet = df_nort['text']\n",
    "print(tweet)"
   ]
  },
  {
   "cell_type": "code",
   "execution_count": 217,
   "metadata": {},
   "outputs": [
    {
     "name": "stdout",
     "output_type": "stream",
     "text": [
      "0      bucket list alert!\\nin 3 days rafting trips to...\n",
      "1      peaceful #valley #totebag\\non @society6! https...\n",
      "2      today, #gsmnp. #alumcavetrail #greatsmokymount...\n",
      "4      is it time for you to renew your #nursing lice...\n",
      "6      art for the eyes! https://t.co/t05x0abhjz #yos...\n",
      "7      #sunset scenery photo of merced river (bottom)...\n",
      "8      #hdr #sunset scenery photo of merced river sho...\n",
      "10     steven and cary stayner: the tale of two broth...\n",
      "11     wanna go rafting in the #grandcanyon? trips fo...\n",
      "13     i am grateful for a beautiful earth and fun pe...\n",
      "14     mimikyu goes the the #grandcanyon 💜\\n#pokemon ...\n",
      "18     just got checked into our room at tenaya lodge...\n",
      "20     ✈️🎁do you love to travel? we got 15% savings a...\n",
      "21     🤩we are always up for an adventure! 📷: @iankam...\n",
      "22     and i think every service company should learn...\n",
      "23     enjoying half-dome plein air, glacier point, y...\n",
      "24     after almost three years living in arizona, i’...\n",
      "27     ⛰ “grand canyon - travel moments\" 🌵🛶🏜 visiting...\n",
      "28     how would someone else describe your home of t...\n",
      "29     backpack to lake haunted by drowned boy in yos...\n",
      "30     going to miss those crisp fall days. #halfdome...\n",
      "32     ‘i just put my head down and ran’: st. george ...\n",
      "33     five fabulous ways to take vacations in the #g...\n",
      "35     he was *posing*.\\n:\\n:\\nrocky mountain nationa...\n",
      "38     map of glacial and postglacial deposits in yos...\n",
      "39     i know this isn’t normal #ff7r content, but i ...\n",
      "40     #monochrome #blackandwhite #yosemite #vertigo ...\n",
      "43     five fabulous ways to take vacations in the #g...\n",
      "44     peaceful #valley #totebag\\non @society6! https...\n",
      "46     yosemite's half dome\\n@yosemitenps \\n#yosemite...\n",
      "47     five fabulous ways to take vacations in the #g...\n",
      "52     new video:\\nit was bright and sunny, but i cap...\n",
      "53     all products are 15% off and orders over $35 s...\n",
      "54     scenery for a saturday morning. lee vining cre...\n",
      "55     avoid grand canyon crowds at hermit's rest \\n ...\n",
      "56     why can't all the national parks increase thei...\n",
      "57     https://t.co/xl8m1tghlo\\n\\nback in #yosemite f...\n",
      "58     the house...along the congress trail.  sequoia...\n",
      "61     central california trail heads alongside prett...\n",
      "64     timberpup loves to #travel! she's planning a #...\n",
      "66     10+ years living in arizona and i finally conv...\n",
      "69     peaceful #valley #totebag\\non @society6! https...\n",
      "72     sunsets and silhouettes. \\n.\\n.\\n.\\n.\\n.\\n#ins...\n",
      "73     @mrdanzak @elistokols gotta love the #confusio...\n",
      "74     \"you... deserted the country in which you say ...\n",
      "76     grand canyon arizona\\nthe woman who follows th...\n",
      "77     five fabulous ways to take vacations in the #g...\n",
      "81     no need to purchase an expensive rv for a fun ...\n",
      "82     five fabulous ways to take vacations in the #g...\n",
      "83     dear sir/madam,\\n\\na person getting 80k will r...\n",
      "85     see the buck in the lower right area of the we...\n",
      "87     tony hsieh, former ceo of link exchange &amp; ...\n",
      "88     the smokey mountains never disappoint. here’s ...\n",
      "89     the smokey mountains never disappoint. here’s ...\n",
      "90     the smokey mountains never disappoint. here’s ...\n",
      "91     the smokey mountains never disappoint. here’s ...\n",
      "92     #yosemite  re: public input sought on death va...\n",
      "96     📷 morning shadows . . . . #grandcanyonnational...\n",
      "98     if you catch the morning just right, you'll fe...\n",
      "101    033 cades cove, great smokey mountains nationa...\n",
      "Name: text, dtype: object\n"
     ]
    }
   ],
   "source": [
    "#Convert to lowercase letters for consistency \n",
    "tweet_lower = tweet.str.lower()\n",
    "print(tweet_lower[0:60])"
   ]
  },
  {
   "cell_type": "code",
   "execution_count": 222,
   "metadata": {},
   "outputs": [
    {
     "name": "stdout",
     "output_type": "stream",
     "text": [
      "0       bucket list alert! in 3 days rafting trips to ...\n",
      "1       peaceful #valley #totebag on society6! httpstc...\n",
      "2       today #gsmnp #alumcavetrail #greatsmokymountai...\n",
      "4       is it time for you to renew your #nursing lice...\n",
      "6       art for the eyes! httpstcot05x0abhjz #yosemite...\n",
      "                              ...                        \n",
      "2112    if you love #nature amp #animals and dont alre...\n",
      "2113    yes you can visit the grand canyon in winter p...\n",
      "2114    hidden forest offers a natural area among the ...\n",
      "2116    your nps net promoter score is a fantastic too...\n",
      "2199    we both loved   our vistit to the grand canyon...\n",
      "Name: text, Length: 995, dtype: object\n"
     ]
    }
   ],
   "source": [
    "#Remove punctuation, remove \\n\n",
    "#Need to remove http, the following did not work:\n",
    "#tweet_nopunc = tweet_lower.str.replace('http\\SS+|www.\\S+'', '', case=False) #Tried to remove http strings, but did not work\n",
    "#tweet_nopunc = tweet_nopunc.str.replace('http+', ' ') #Same as above\n",
    "\n",
    "tweet_nopunc = tweet_lower.str.replace('[^!#\\w\\s]','')\n",
    "tweet_nopunc = tweet_nopunc.str.replace('\\n',' ')\n",
    "\n",
    "print(tweet_nopunc)"
   ]
  },
  {
   "cell_type": "code",
   "execution_count": null,
   "metadata": {},
   "outputs": [],
   "source": []
  }
 ],
 "metadata": {
  "kernelspec": {
   "display_name": "Python 3",
   "language": "python",
   "name": "python3"
  },
  "language_info": {
   "codemirror_mode": {
    "name": "ipython",
    "version": 3
   },
   "file_extension": ".py",
   "mimetype": "text/x-python",
   "name": "python",
   "nbconvert_exporter": "python",
   "pygments_lexer": "ipython3",
   "version": "3.8.3"
  }
 },
 "nbformat": 4,
 "nbformat_minor": 4
}
